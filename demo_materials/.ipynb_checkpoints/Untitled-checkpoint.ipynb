{
 "cells": [
  {
   "cell_type": "code",
   "execution_count": 1,
   "metadata": {},
   "outputs": [
    {
     "ename": "ModuleNotFoundError",
     "evalue": "No module named 'chromagen'",
     "output_type": "error",
     "traceback": [
      "\u001b[1;31m---------------------------------------------------------------------------\u001b[0m",
      "\u001b[1;31mModuleNotFoundError\u001b[0m                       Traceback (most recent call last)",
      "\u001b[1;32m<ipython-input-1-de637162fe64>\u001b[0m in \u001b[0;36m<module>\u001b[1;34m\u001b[0m\n\u001b[0;32m      1\u001b[0m \u001b[1;32mimport\u001b[0m \u001b[0mnumpy\u001b[0m \u001b[1;32mas\u001b[0m \u001b[0mnp\u001b[0m\u001b[1;33m\u001b[0m\u001b[1;33m\u001b[0m\u001b[0m\n\u001b[0;32m      2\u001b[0m \u001b[1;32mfrom\u001b[0m \u001b[0mscipy\u001b[0m\u001b[1;33m.\u001b[0m\u001b[0mio\u001b[0m\u001b[1;33m.\u001b[0m\u001b[0mwavfile\u001b[0m \u001b[1;32mimport\u001b[0m \u001b[0mread\u001b[0m \u001b[1;32mas\u001b[0m \u001b[0mwavread\u001b[0m\u001b[1;33m\u001b[0m\u001b[1;33m\u001b[0m\u001b[0m\n\u001b[1;32m----> 3\u001b[1;33m \u001b[1;32mimport\u001b[0m \u001b[0mchromagen\u001b[0m\u001b[1;33m\u001b[0m\u001b[1;33m\u001b[0m\u001b[0m\n\u001b[0m\u001b[0;32m      4\u001b[0m \u001b[1;32mimport\u001b[0m \u001b[0mmatplotlib\u001b[0m\u001b[1;33m.\u001b[0m\u001b[0mpyplot\u001b[0m \u001b[1;32mas\u001b[0m \u001b[0mplt\u001b[0m\u001b[1;33m\u001b[0m\u001b[1;33m\u001b[0m\u001b[0m\n\u001b[0;32m      5\u001b[0m \u001b[1;32mimport\u001b[0m \u001b[0mIPython\u001b[0m\u001b[1;33m.\u001b[0m\u001b[0mdisplay\u001b[0m \u001b[1;32mas\u001b[0m \u001b[0mdisplay\u001b[0m\u001b[1;33m\u001b[0m\u001b[1;33m\u001b[0m\u001b[0m\n",
      "\u001b[1;31mModuleNotFoundError\u001b[0m: No module named 'chromagen'"
     ]
    }
   ],
   "source": [
    "import numpy as np\n",
    "from scipy.io.wavfile import read as wavread\n",
    "import chromagen\n",
    "import matplotlib.pyplot as plt\n",
    "import IPython.display as display\n",
    "rate, data = wavread(\"Moonlight Sonata First Two Measures.wav\")\n",
    "# import data of music\n",
    "\n",
    "print(data.shape)\n",
    "print()\n",
    "slicedData = (data[0:-15000,0]+data[0:-15000,1])/2\n",
    "# sliced the first 2 measures\n",
    "# added the left and right channels\n",
    "\n",
    "\"\"\"This is for testing the stft function\"\"\"\n",
    "f, t, d = chromagen.stft(slicedData,10000,rate, windowtype = \"Hann\")\n",
    "print(d.shape)\n",
    "print(f.shape)\n",
    "print()\n",
    "print(d[500])\n",
    "midi_weights = chromagen.spectrogram(f,d)\n",
    "print(midi_weights.shape)\n",
    "print(midi_weights[:,45])\n",
    "display.Audio(slicedData, rate=rate)"
   ]
  },
  {
   "cell_type": "code",
   "execution_count": null,
   "metadata": {},
   "outputs": [],
   "source": [
    "chromagram = chromagen.chromagram(f,d)\n",
    "plt.figure(figsize=(15, 6))\n",
    "plt.imshow(chromagram, origin=\"lower\", cmap=\"Greys\", vmin=400000, vmax=1000000000000, aspect=.5, extent =[0,14.0625,-.5,11.5])\n",
    "#plt.imshow(chromagram, origin=\"lower\", cmap=\"Greys\", aspect=8)\n",
    "labels = [\"C\", \"C#\", \"D\", \"D#\", \"E\", \"F\", \"F#\", \"G\", \"G#\", \"A\", \"A#\", \"B\"]\n",
    "plt.yticks(np.linspace(0,11,12),labels)\n",
    "plt.ylabel(\"Chromatic Pitch\")\n",
    "plt.xlabel(\"Time (s)\")\n",
    "plt.title(\"Chroma Feature\")\n",
    "print(chromagram.shape)\n",
    "print(chromagram[:,12])\n",
    "plt.show()"
   ]
  },
  {
   "cell_type": "code",
   "execution_count": null,
   "metadata": {},
   "outputs": [],
   "source": []
  },
  {
   "cell_type": "code",
   "execution_count": null,
   "metadata": {},
   "outputs": [],
   "source": []
  }
 ],
 "metadata": {
  "kernelspec": {
   "display_name": "Python 3",
   "language": "python",
   "name": "python3"
  },
  "language_info": {
   "codemirror_mode": {
    "name": "ipython",
    "version": 3
   },
   "file_extension": ".py",
   "mimetype": "text/x-python",
   "name": "python",
   "nbconvert_exporter": "python",
   "pygments_lexer": "ipython3",
   "version": "3.7.4"
  }
 },
 "nbformat": 4,
 "nbformat_minor": 2
}
