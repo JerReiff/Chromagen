{
 "cells": [
  {
   "cell_type": "markdown",
   "metadata": {},
   "source": [
    "# Taking a Look at MAESTRO Data with Chromagen"
   ]
  },
  {
   "cell_type": "markdown",
   "metadata": {},
   "source": [
    "The MAESTRO dataset includes WAV/MIDI file pairs of piano compositions, and metadata in the form of .csv and .json files. My goal is to use the Chromagen module for an exploratory k-means clustering analysis of a set of WAV files. I'll ignore the MIDI files in this demo, and take the output of Chromagen.chromaweights() as our feature vector for each file."
   ]
  },
  {
   "cell_type": "code",
   "execution_count": 71,
   "metadata": {},
   "outputs": [],
   "source": [
    "import numpy as np #for linear algebra\n",
    "import pandas as pd #for nice databases\n",
    "from scipy.io.wavfile import read as wavread #we can read wavfiles this way\n",
    "import zipfile as z #to get to the dataset\n",
    "import chromagen as cg"
   ]
  },
  {
   "cell_type": "code",
   "execution_count": 58,
   "metadata": {},
   "outputs": [],
   "source": [
    "#since the dataset .zip has more than one file in it, we can't create a dataframe directly from the zip\n",
    "file = z.ZipFile(\"D:/Datasets/maestro-v1.0.0.zip\")\n",
    "#extracted just the .csv holding our metadata\n",
    "file.extract(\"maestro-v1.0.0/maestro-v1.0.0.csv\", path = \"D:/Datasets\")\n",
    "#now create a pandas dataframe using the csv\n",
    "df = pd.read_csv(\"D:/Datasets/maestro-v1.0.0/maestro-v1.0.0.csv\")"
   ]
  },
  {
   "cell_type": "code",
   "execution_count": 59,
   "metadata": {},
   "outputs": [
    {
     "data": {
      "text/html": [
       "<div>\n",
       "<style scoped>\n",
       "    .dataframe tbody tr th:only-of-type {\n",
       "        vertical-align: middle;\n",
       "    }\n",
       "\n",
       "    .dataframe tbody tr th {\n",
       "        vertical-align: top;\n",
       "    }\n",
       "\n",
       "    .dataframe thead th {\n",
       "        text-align: right;\n",
       "    }\n",
       "</style>\n",
       "<table border=\"1\" class=\"dataframe\">\n",
       "  <thead>\n",
       "    <tr style=\"text-align: right;\">\n",
       "      <th></th>\n",
       "      <th>canonical_composer</th>\n",
       "      <th>canonical_title</th>\n",
       "      <th>split</th>\n",
       "      <th>year</th>\n",
       "      <th>midi_filename</th>\n",
       "      <th>audio_filename</th>\n",
       "      <th>duration</th>\n",
       "    </tr>\n",
       "  </thead>\n",
       "  <tbody>\n",
       "    <tr>\n",
       "      <th>0</th>\n",
       "      <td>Alban Berg</td>\n",
       "      <td>Sonata Op. 1</td>\n",
       "      <td>train</td>\n",
       "      <td>2017</td>\n",
       "      <td>2017/MIDI-Unprocessed_066_PIANO066_MID--AUDIO-...</td>\n",
       "      <td>2017/MIDI-Unprocessed_066_PIANO066_MID--AUDIO-...</td>\n",
       "      <td>464.649433</td>\n",
       "    </tr>\n",
       "    <tr>\n",
       "      <th>1</th>\n",
       "      <td>Alban Berg</td>\n",
       "      <td>Sonata Op. 1</td>\n",
       "      <td>train</td>\n",
       "      <td>2008</td>\n",
       "      <td>2008/MIDI-Unprocessed_03_R2_2008_01-03_ORIG_MI...</td>\n",
       "      <td>2008/MIDI-Unprocessed_03_R2_2008_01-03_ORIG_MI...</td>\n",
       "      <td>759.518471</td>\n",
       "    </tr>\n",
       "    <tr>\n",
       "      <th>2</th>\n",
       "      <td>Alexander Scriabin</td>\n",
       "      <td>24 Preludes Op. 11, No. 13-24</td>\n",
       "      <td>train</td>\n",
       "      <td>2004</td>\n",
       "      <td>2004/MIDI-Unprocessed_XP_21_R1_2004_01_ORIG_MI...</td>\n",
       "      <td>2004/MIDI-Unprocessed_XP_21_R1_2004_01_ORIG_MI...</td>\n",
       "      <td>872.640588</td>\n",
       "    </tr>\n",
       "    <tr>\n",
       "      <th>3</th>\n",
       "      <td>Alexander Scriabin</td>\n",
       "      <td>3 Etudes, Op. 65</td>\n",
       "      <td>test</td>\n",
       "      <td>2006</td>\n",
       "      <td>2006/MIDI-Unprocessed_17_R1_2006_01-06_ORIG_MI...</td>\n",
       "      <td>2006/MIDI-Unprocessed_17_R1_2006_01-06_ORIG_MI...</td>\n",
       "      <td>397.857508</td>\n",
       "    </tr>\n",
       "    <tr>\n",
       "      <th>4</th>\n",
       "      <td>Alexander Scriabin</td>\n",
       "      <td>5 Preludes, Op.15</td>\n",
       "      <td>train</td>\n",
       "      <td>2009</td>\n",
       "      <td>2009/MIDI-Unprocessed_07_R1_2009_04-05_ORIG_MI...</td>\n",
       "      <td>2009/MIDI-Unprocessed_07_R1_2009_04-05_ORIG_MI...</td>\n",
       "      <td>400.557826</td>\n",
       "    </tr>\n",
       "  </tbody>\n",
       "</table>\n",
       "</div>"
      ],
      "text/plain": [
       "   canonical_composer                canonical_title  split  year  \\\n",
       "0          Alban Berg                   Sonata Op. 1  train  2017   \n",
       "1          Alban Berg                   Sonata Op. 1  train  2008   \n",
       "2  Alexander Scriabin  24 Preludes Op. 11, No. 13-24  train  2004   \n",
       "3  Alexander Scriabin               3 Etudes, Op. 65   test  2006   \n",
       "4  Alexander Scriabin              5 Preludes, Op.15  train  2009   \n",
       "\n",
       "                                       midi_filename  \\\n",
       "0  2017/MIDI-Unprocessed_066_PIANO066_MID--AUDIO-...   \n",
       "1  2008/MIDI-Unprocessed_03_R2_2008_01-03_ORIG_MI...   \n",
       "2  2004/MIDI-Unprocessed_XP_21_R1_2004_01_ORIG_MI...   \n",
       "3  2006/MIDI-Unprocessed_17_R1_2006_01-06_ORIG_MI...   \n",
       "4  2009/MIDI-Unprocessed_07_R1_2009_04-05_ORIG_MI...   \n",
       "\n",
       "                                      audio_filename    duration  \n",
       "0  2017/MIDI-Unprocessed_066_PIANO066_MID--AUDIO-...  464.649433  \n",
       "1  2008/MIDI-Unprocessed_03_R2_2008_01-03_ORIG_MI...  759.518471  \n",
       "2  2004/MIDI-Unprocessed_XP_21_R1_2004_01_ORIG_MI...  872.640588  \n",
       "3  2006/MIDI-Unprocessed_17_R1_2006_01-06_ORIG_MI...  397.857508  \n",
       "4  2009/MIDI-Unprocessed_07_R1_2009_04-05_ORIG_MI...  400.557826  "
      ]
     },
     "execution_count": 59,
     "metadata": {},
     "output_type": "execute_result"
    }
   ],
   "source": [
    "##let's take a look at the metadata\n",
    "df.head()"
   ]
  },
  {
   "cell_type": "markdown",
   "metadata": {},
   "source": [
    "It would take some time to extract all of these files, and we don't need a huge dataset for our basic exploration. Let's take a subset of the 954 WAV files listed as \"training\" files to narrow the field a bit. I'll choose only the WAV files whose corresponding MIDI file is between 100 and 200 seconds."
   ]
  },
  {
   "cell_type": "code",
   "execution_count": 60,
   "metadata": {},
   "outputs": [],
   "source": [
    "df.query('split == \"train\" and 100<duration<200', inplace = True)"
   ]
  },
  {
   "cell_type": "code",
   "execution_count": 61,
   "metadata": {},
   "outputs": [
    {
     "data": {
      "text/html": [
       "<div>\n",
       "<style scoped>\n",
       "    .dataframe tbody tr th:only-of-type {\n",
       "        vertical-align: middle;\n",
       "    }\n",
       "\n",
       "    .dataframe tbody tr th {\n",
       "        vertical-align: top;\n",
       "    }\n",
       "\n",
       "    .dataframe thead th {\n",
       "        text-align: right;\n",
       "    }\n",
       "</style>\n",
       "<table border=\"1\" class=\"dataframe\">\n",
       "  <thead>\n",
       "    <tr style=\"text-align: right;\">\n",
       "      <th></th>\n",
       "      <th>canonical_composer</th>\n",
       "      <th>canonical_title</th>\n",
       "      <th>split</th>\n",
       "      <th>year</th>\n",
       "      <th>midi_filename</th>\n",
       "      <th>audio_filename</th>\n",
       "      <th>duration</th>\n",
       "    </tr>\n",
       "  </thead>\n",
       "  <tbody>\n",
       "    <tr>\n",
       "      <th>8</th>\n",
       "      <td>Alexander Scriabin</td>\n",
       "      <td>Etude Op. 8, No. 13</td>\n",
       "      <td>train</td>\n",
       "      <td>2009</td>\n",
       "      <td>2009/MIDI-Unprocessed_02_R1_2009_03-06_ORIG_MI...</td>\n",
       "      <td>2009/MIDI-Unprocessed_02_R1_2009_03-06_ORIG_MI...</td>\n",
       "      <td>167.085837</td>\n",
       "    </tr>\n",
       "    <tr>\n",
       "      <th>9</th>\n",
       "      <td>Alexander Scriabin</td>\n",
       "      <td>Etude in D-flat Major, Op. 8 No. 10</td>\n",
       "      <td>train</td>\n",
       "      <td>2011</td>\n",
       "      <td>2011/MIDI-Unprocessed_15_R1_2011_MID--AUDIO_R1...</td>\n",
       "      <td>2011/MIDI-Unprocessed_15_R1_2011_MID--AUDIO_R1...</td>\n",
       "      <td>102.007110</td>\n",
       "    </tr>\n",
       "    <tr>\n",
       "      <th>34</th>\n",
       "      <td>Claude Debussy</td>\n",
       "      <td>\"Les collines d'Anacapri\" from Preludes, Book I</td>\n",
       "      <td>train</td>\n",
       "      <td>2008</td>\n",
       "      <td>2008/MIDI-Unprocessed_07_R3_2008_01-05_ORIG_MI...</td>\n",
       "      <td>2008/MIDI-Unprocessed_07_R3_2008_01-05_ORIG_MI...</td>\n",
       "      <td>166.495560</td>\n",
       "    </tr>\n",
       "    <tr>\n",
       "      <th>62</th>\n",
       "      <td>Claude Debussy</td>\n",
       "      <td>Ondine from Preludes, Book II</td>\n",
       "      <td>train</td>\n",
       "      <td>2008</td>\n",
       "      <td>2008/MIDI-Unprocessed_10_R3_2008_01-05_ORIG_MI...</td>\n",
       "      <td>2008/MIDI-Unprocessed_10_R3_2008_01-05_ORIG_MI...</td>\n",
       "      <td>193.301089</td>\n",
       "    </tr>\n",
       "    <tr>\n",
       "      <th>68</th>\n",
       "      <td>Claude Debussy</td>\n",
       "      <td>Preludes, Book II, III - La puerta del vino</td>\n",
       "      <td>train</td>\n",
       "      <td>2013</td>\n",
       "      <td>2013/ORIG-MIDI_01_7_8_13_Group__MID--AUDIO_02_...</td>\n",
       "      <td>2013/ORIG-MIDI_01_7_8_13_Group__MID--AUDIO_02_...</td>\n",
       "      <td>179.321402</td>\n",
       "    </tr>\n",
       "    <tr>\n",
       "      <th>...</th>\n",
       "      <td>...</td>\n",
       "      <td>...</td>\n",
       "      <td>...</td>\n",
       "      <td>...</td>\n",
       "      <td>...</td>\n",
       "      <td>...</td>\n",
       "      <td>...</td>\n",
       "    </tr>\n",
       "    <tr>\n",
       "      <th>1148</th>\n",
       "      <td>Sergei Rachmaninoff / György Cziffra</td>\n",
       "      <td>Flight of the Bumblebee</td>\n",
       "      <td>train</td>\n",
       "      <td>2006</td>\n",
       "      <td>2006/MIDI-Unprocessed_12_R1_2006_01-08_ORIG_MI...</td>\n",
       "      <td>2006/MIDI-Unprocessed_12_R1_2006_01-08_ORIG_MI...</td>\n",
       "      <td>114.583219</td>\n",
       "    </tr>\n",
       "    <tr>\n",
       "      <th>1149</th>\n",
       "      <td>Sergei Rachmaninoff / Vyacheslav Gryaznov</td>\n",
       "      <td>Italian Polka</td>\n",
       "      <td>train</td>\n",
       "      <td>2009</td>\n",
       "      <td>2009/MIDI-Unprocessed_04_R1_2009_04-06_ORIG_MI...</td>\n",
       "      <td>2009/MIDI-Unprocessed_04_R1_2009_04-06_ORIG_MI...</td>\n",
       "      <td>182.654732</td>\n",
       "    </tr>\n",
       "    <tr>\n",
       "      <th>1156</th>\n",
       "      <td>Wolfgang Amadeus Mozart</td>\n",
       "      <td>Sonata in B-flat Major, K. 281, First Movement</td>\n",
       "      <td>train</td>\n",
       "      <td>2011</td>\n",
       "      <td>2011/MIDI-Unprocessed_02_R1_2011_MID--AUDIO_R1...</td>\n",
       "      <td>2011/MIDI-Unprocessed_02_R1_2011_MID--AUDIO_R1...</td>\n",
       "      <td>183.087424</td>\n",
       "    </tr>\n",
       "    <tr>\n",
       "      <th>1178</th>\n",
       "      <td>Wolfgang Amadeus Mozart</td>\n",
       "      <td>Sonata in F Major, K. 280, 1st mov.</td>\n",
       "      <td>train</td>\n",
       "      <td>2013</td>\n",
       "      <td>2013/ORIG-MIDI_03_7_6_13_Group__MID--AUDIO_09_...</td>\n",
       "      <td>2013/ORIG-MIDI_03_7_6_13_Group__MID--AUDIO_09_...</td>\n",
       "      <td>192.605310</td>\n",
       "    </tr>\n",
       "    <tr>\n",
       "      <th>1181</th>\n",
       "      <td>Wolfgang Amadeus Mozart</td>\n",
       "      <td>Sonata in F Major, K280</td>\n",
       "      <td>train</td>\n",
       "      <td>2004</td>\n",
       "      <td>2004/MIDI-Unprocessed_XP_14_R1_2004_04_ORIG_MI...</td>\n",
       "      <td>2004/MIDI-Unprocessed_XP_14_R1_2004_04_ORIG_MI...</td>\n",
       "      <td>114.696243</td>\n",
       "    </tr>\n",
       "  </tbody>\n",
       "</table>\n",
       "<p>123 rows × 7 columns</p>\n",
       "</div>"
      ],
      "text/plain": [
       "                             canonical_composer  \\\n",
       "8                            Alexander Scriabin   \n",
       "9                            Alexander Scriabin   \n",
       "34                               Claude Debussy   \n",
       "62                               Claude Debussy   \n",
       "68                               Claude Debussy   \n",
       "...                                         ...   \n",
       "1148       Sergei Rachmaninoff / György Cziffra   \n",
       "1149  Sergei Rachmaninoff / Vyacheslav Gryaznov   \n",
       "1156                    Wolfgang Amadeus Mozart   \n",
       "1178                    Wolfgang Amadeus Mozart   \n",
       "1181                    Wolfgang Amadeus Mozart   \n",
       "\n",
       "                                      canonical_title  split  year  \\\n",
       "8                                 Etude Op. 8, No. 13  train  2009   \n",
       "9                 Etude in D-flat Major, Op. 8 No. 10  train  2011   \n",
       "34    \"Les collines d'Anacapri\" from Preludes, Book I  train  2008   \n",
       "62                      Ondine from Preludes, Book II  train  2008   \n",
       "68        Preludes, Book II, III - La puerta del vino  train  2013   \n",
       "...                                               ...    ...   ...   \n",
       "1148                          Flight of the Bumblebee  train  2006   \n",
       "1149                                    Italian Polka  train  2009   \n",
       "1156   Sonata in B-flat Major, K. 281, First Movement  train  2011   \n",
       "1178              Sonata in F Major, K. 280, 1st mov.  train  2013   \n",
       "1181                          Sonata in F Major, K280  train  2004   \n",
       "\n",
       "                                          midi_filename  \\\n",
       "8     2009/MIDI-Unprocessed_02_R1_2009_03-06_ORIG_MI...   \n",
       "9     2011/MIDI-Unprocessed_15_R1_2011_MID--AUDIO_R1...   \n",
       "34    2008/MIDI-Unprocessed_07_R3_2008_01-05_ORIG_MI...   \n",
       "62    2008/MIDI-Unprocessed_10_R3_2008_01-05_ORIG_MI...   \n",
       "68    2013/ORIG-MIDI_01_7_8_13_Group__MID--AUDIO_02_...   \n",
       "...                                                 ...   \n",
       "1148  2006/MIDI-Unprocessed_12_R1_2006_01-08_ORIG_MI...   \n",
       "1149  2009/MIDI-Unprocessed_04_R1_2009_04-06_ORIG_MI...   \n",
       "1156  2011/MIDI-Unprocessed_02_R1_2011_MID--AUDIO_R1...   \n",
       "1178  2013/ORIG-MIDI_03_7_6_13_Group__MID--AUDIO_09_...   \n",
       "1181  2004/MIDI-Unprocessed_XP_14_R1_2004_04_ORIG_MI...   \n",
       "\n",
       "                                         audio_filename    duration  \n",
       "8     2009/MIDI-Unprocessed_02_R1_2009_03-06_ORIG_MI...  167.085837  \n",
       "9     2011/MIDI-Unprocessed_15_R1_2011_MID--AUDIO_R1...  102.007110  \n",
       "34    2008/MIDI-Unprocessed_07_R3_2008_01-05_ORIG_MI...  166.495560  \n",
       "62    2008/MIDI-Unprocessed_10_R3_2008_01-05_ORIG_MI...  193.301089  \n",
       "68    2013/ORIG-MIDI_01_7_8_13_Group__MID--AUDIO_02_...  179.321402  \n",
       "...                                                 ...         ...  \n",
       "1148  2006/MIDI-Unprocessed_12_R1_2006_01-08_ORIG_MI...  114.583219  \n",
       "1149  2009/MIDI-Unprocessed_04_R1_2009_04-06_ORIG_MI...  182.654732  \n",
       "1156  2011/MIDI-Unprocessed_02_R1_2011_MID--AUDIO_R1...  183.087424  \n",
       "1178  2013/ORIG-MIDI_03_7_6_13_Group__MID--AUDIO_09_...  192.605310  \n",
       "1181  2004/MIDI-Unprocessed_XP_14_R1_2004_04_ORIG_MI...  114.696243  \n",
       "\n",
       "[123 rows x 7 columns]"
      ]
     },
     "execution_count": 61,
     "metadata": {},
     "output_type": "execute_result"
    }
   ],
   "source": [
    "df"
   ]
  },
  {
   "cell_type": "code",
   "execution_count": 62,
   "metadata": {},
   "outputs": [],
   "source": [
    "for index, row in df.iterrows():\n",
    "    filepath = row['audio_filename']\n",
    "    file.extract(\"maestro-v1.0.0/\" + filepath, path = \"D:/Datasets\")"
   ]
  },
  {
   "cell_type": "code",
   "execution_count": 72,
   "metadata": {},
   "outputs": [
    {
     "name": "stderr",
     "output_type": "stream",
     "text": [
      "C:\\Users\\jreif\\Anaconda3\\lib\\site-packages\\ipykernel_launcher.py:1: DeprecationWarning: The default dtype for empty Series will be 'object' instead of 'float64' in a future version. Specify a dtype explicitly to silence this warning.\n",
      "  \"\"\"Entry point for launching an IPython kernel.\n"
     ]
    },
    {
     "ename": "AxisError",
     "evalue": "axis 1 is out of bounds for array of dimension 1",
     "output_type": "error",
     "traceback": [
      "\u001b[1;31m---------------------------------------------------------------------------\u001b[0m",
      "\u001b[1;31mAxisError\u001b[0m                                 Traceback (most recent call last)",
      "\u001b[1;32m<ipython-input-72-c68b0a123a7a>\u001b[0m in \u001b[0;36m<module>\u001b[1;34m\u001b[0m\n\u001b[0;32m      6\u001b[0m     \u001b[0mf\u001b[0m\u001b[1;33m,\u001b[0m \u001b[0mt\u001b[0m\u001b[1;33m,\u001b[0m \u001b[0mc\u001b[0m \u001b[1;33m=\u001b[0m \u001b[0mcg\u001b[0m\u001b[1;33m.\u001b[0m\u001b[0mstft\u001b[0m\u001b[1;33m(\u001b[0m\u001b[0mdata\u001b[0m\u001b[1;33m,\u001b[0m\u001b[1;36m10000\u001b[0m\u001b[1;33m,\u001b[0m\u001b[0mrate\u001b[0m\u001b[1;33m,\u001b[0m \u001b[0mwindowtype\u001b[0m \u001b[1;33m=\u001b[0m \u001b[1;34m\"Hann\"\u001b[0m\u001b[1;33m)\u001b[0m\u001b[1;33m\u001b[0m\u001b[1;33m\u001b[0m\u001b[0m\n\u001b[0;32m      7\u001b[0m     \u001b[0mchrm\u001b[0m \u001b[1;33m=\u001b[0m \u001b[0mcg\u001b[0m\u001b[1;33m.\u001b[0m\u001b[0mchromagram\u001b[0m\u001b[1;33m(\u001b[0m\u001b[0mF_arr\u001b[0m \u001b[1;33m=\u001b[0m \u001b[0mf\u001b[0m\u001b[1;33m,\u001b[0m \u001b[0mChi\u001b[0m \u001b[1;33m=\u001b[0m \u001b[0mc\u001b[0m\u001b[1;33m)\u001b[0m\u001b[1;33m\u001b[0m\u001b[1;33m\u001b[0m\u001b[0m\n\u001b[1;32m----> 8\u001b[1;33m     \u001b[0mx\u001b[0m \u001b[1;33m=\u001b[0m \u001b[0mcg\u001b[0m\u001b[1;33m.\u001b[0m\u001b[0mchromaweights\u001b[0m\u001b[1;33m(\u001b[0m\u001b[0mchrm\u001b[0m\u001b[1;33m)\u001b[0m\u001b[1;33m\u001b[0m\u001b[1;33m\u001b[0m\u001b[0m\n\u001b[0m\u001b[0;32m      9\u001b[0m \u001b[1;33m\u001b[0m\u001b[0m\n\u001b[0;32m     10\u001b[0m \u001b[1;33m\u001b[0m\u001b[0m\n",
      "\u001b[1;32m~\\Documents\\Python Projects\\Chromagen\\chromagen.py\u001b[0m in \u001b[0;36mchromaweights\u001b[1;34m(chromagram)\u001b[0m\n\u001b[0;32m    101\u001b[0m     \u001b[1;31m#first normalize the chromagram at each time step\u001b[0m\u001b[1;33m\u001b[0m\u001b[1;33m\u001b[0m\u001b[1;33m\u001b[0m\u001b[0m\n\u001b[0;32m    102\u001b[0m     \u001b[1;31m#Then, to get each chroma's weight, take sum of that chroma at all time steps and divide by total number of time steps\u001b[0m\u001b[1;33m\u001b[0m\u001b[1;33m\u001b[0m\u001b[1;33m\u001b[0m\u001b[0m\n\u001b[1;32m--> 103\u001b[1;33m     \u001b[1;32mreturn\u001b[0m \u001b[0mnp\u001b[0m\u001b[1;33m.\u001b[0m\u001b[0msum\u001b[0m\u001b[1;33m(\u001b[0m\u001b[0mnp\u001b[0m\u001b[1;33m.\u001b[0m\u001b[0mlinalg\u001b[0m\u001b[1;33m.\u001b[0m\u001b[0mnorm\u001b[0m\u001b[1;33m(\u001b[0m\u001b[0mchromagram\u001b[0m\u001b[1;33m,\u001b[0m\u001b[0maxis\u001b[0m\u001b[1;33m=\u001b[0m\u001b[1;36m0\u001b[0m\u001b[1;33m)\u001b[0m\u001b[1;33m,\u001b[0m\u001b[0maxis\u001b[0m\u001b[1;33m=\u001b[0m\u001b[1;36m1\u001b[0m\u001b[1;33m)\u001b[0m\u001b[1;33m/\u001b[0m\u001b[0mnp\u001b[0m\u001b[1;33m.\u001b[0m\u001b[0mshape\u001b[0m\u001b[1;33m(\u001b[0m\u001b[0mchromagram\u001b[0m\u001b[1;33m)\u001b[0m\u001b[1;33m[\u001b[0m\u001b[1;36m1\u001b[0m\u001b[1;33m]\u001b[0m\u001b[1;33m\u001b[0m\u001b[1;33m\u001b[0m\u001b[0m\n\u001b[0m\u001b[0;32m    104\u001b[0m \u001b[1;33m\u001b[0m\u001b[0m\n\u001b[0;32m    105\u001b[0m \u001b[1;33m\u001b[0m\u001b[0m\n",
      "\u001b[1;32m<__array_function__ internals>\u001b[0m in \u001b[0;36msum\u001b[1;34m(*args, **kwargs)\u001b[0m\n",
      "\u001b[1;32m~\\Anaconda3\\lib\\site-packages\\numpy\\core\\fromnumeric.py\u001b[0m in \u001b[0;36msum\u001b[1;34m(a, axis, dtype, out, keepdims, initial, where)\u001b[0m\n\u001b[0;32m   2227\u001b[0m \u001b[1;33m\u001b[0m\u001b[0m\n\u001b[0;32m   2228\u001b[0m     return _wrapreduction(a, np.add, 'sum', axis, dtype, out, keepdims=keepdims,\n\u001b[1;32m-> 2229\u001b[1;33m                           initial=initial, where=where)\n\u001b[0m\u001b[0;32m   2230\u001b[0m \u001b[1;33m\u001b[0m\u001b[0m\n\u001b[0;32m   2231\u001b[0m \u001b[1;33m\u001b[0m\u001b[0m\n",
      "\u001b[1;32m~\\Anaconda3\\lib\\site-packages\\numpy\\core\\fromnumeric.py\u001b[0m in \u001b[0;36m_wrapreduction\u001b[1;34m(obj, ufunc, method, axis, dtype, out, **kwargs)\u001b[0m\n\u001b[0;32m     88\u001b[0m                 \u001b[1;32mreturn\u001b[0m \u001b[0mreduction\u001b[0m\u001b[1;33m(\u001b[0m\u001b[0maxis\u001b[0m\u001b[1;33m=\u001b[0m\u001b[0maxis\u001b[0m\u001b[1;33m,\u001b[0m \u001b[0mout\u001b[0m\u001b[1;33m=\u001b[0m\u001b[0mout\u001b[0m\u001b[1;33m,\u001b[0m \u001b[1;33m**\u001b[0m\u001b[0mpasskwargs\u001b[0m\u001b[1;33m)\u001b[0m\u001b[1;33m\u001b[0m\u001b[1;33m\u001b[0m\u001b[0m\n\u001b[0;32m     89\u001b[0m \u001b[1;33m\u001b[0m\u001b[0m\n\u001b[1;32m---> 90\u001b[1;33m     \u001b[1;32mreturn\u001b[0m \u001b[0mufunc\u001b[0m\u001b[1;33m.\u001b[0m\u001b[0mreduce\u001b[0m\u001b[1;33m(\u001b[0m\u001b[0mobj\u001b[0m\u001b[1;33m,\u001b[0m \u001b[0maxis\u001b[0m\u001b[1;33m,\u001b[0m \u001b[0mdtype\u001b[0m\u001b[1;33m,\u001b[0m \u001b[0mout\u001b[0m\u001b[1;33m,\u001b[0m \u001b[1;33m**\u001b[0m\u001b[0mpasskwargs\u001b[0m\u001b[1;33m)\u001b[0m\u001b[1;33m\u001b[0m\u001b[1;33m\u001b[0m\u001b[0m\n\u001b[0m\u001b[0;32m     91\u001b[0m \u001b[1;33m\u001b[0m\u001b[0m\n\u001b[0;32m     92\u001b[0m \u001b[1;33m\u001b[0m\u001b[0m\n",
      "\u001b[1;31mAxisError\u001b[0m: axis 1 is out of bounds for array of dimension 1"
     ]
    }
   ],
   "source": [
    "X = pd.Series()\n",
    "for index, row in df.iterrows():\n",
    "    filepath = row['audio_filename']\n",
    "    rate, data = wavread(\"D:/Datasets/maestro-v1.0.0/\" + filepath)\n",
    "    data = np.average(data, axis = 1)\n",
    "    f, t, c = cg.stft(data,10000,rate, windowtype = \"Hann\")\n",
    "    chrm = cg.chromagram(F_arr = f, Chi = c)\n",
    "    x = cg.chromaweights(chrm)\n",
    "    \n",
    "    "
   ]
  },
  {
   "cell_type": "markdown",
   "metadata": {},
   "source": [
    "# Licensing"
   ]
  },
  {
   "cell_type": "markdown",
   "metadata": {},
   "source": [
    "The MAESTRO dataset (v1.0.0) is made available by Google LLC under a [Creative Commons Attribution Non-Commercial Share-Alike 4.0 (CC BY-NC-SA 4.0) license](https://creativecommons.org/licenses/by-nc-sa/4.0/), and all new analysis of that unaltered data done in this notebook uses the same license. "
   ]
  },
  {
   "cell_type": "markdown",
   "metadata": {},
   "source": [
    "# Data Sources"
   ]
  },
  {
   "cell_type": "markdown",
   "metadata": {},
   "source": [
    "The [MAESTRO v1.0.0 dataset](https://magenta.tensorflow.org/datasets/maestro#v100) used here was introduced in the following work:"
   ]
  },
  {
   "cell_type": "markdown",
   "metadata": {},
   "source": [
    "Curtis Hawthorne, Andriy Stasyuk, Adam Roberts, Ian Simon, Cheng-Zhi Anna Huang,\n",
    "  Sander Dieleman, Erich Elsen, Jesse Engel, and Douglas Eck. \"Enabling\n",
    "  Factorized Piano Music Modeling and Generation with the MAESTRO Dataset.\"\n",
    "  In International Conference on Learning Representations, 2019."
   ]
  },
  {
   "cell_type": "code",
   "execution_count": null,
   "metadata": {},
   "outputs": [],
   "source": []
  }
 ],
 "metadata": {
  "kernelspec": {
   "display_name": "Python 3",
   "language": "python",
   "name": "python3"
  },
  "language_info": {
   "codemirror_mode": {
    "name": "ipython",
    "version": 3
   },
   "file_extension": ".py",
   "mimetype": "text/x-python",
   "name": "python",
   "nbconvert_exporter": "python",
   "pygments_lexer": "ipython3",
   "version": "3.7.4"
  }
 },
 "nbformat": 4,
 "nbformat_minor": 4
}
