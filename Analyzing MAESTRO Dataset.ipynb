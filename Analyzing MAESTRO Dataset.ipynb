{
 "cells": [
  {
   "cell_type": "code",
   "execution_count": 14,
   "metadata": {},
   "outputs": [],
   "source": [
    "import numpy as np\n",
    "import pandas as pd\n",
    "import zipfile as z"
   ]
  },
  {
   "cell_type": "code",
   "execution_count": 18,
   "metadata": {},
   "outputs": [],
   "source": [
    "file = z.ZipFile(\"D:/Datasets/maestro-v1.0.0.zip\")\n",
    "file.extract(\"maestro-v1.0.0/maestro-v1.0.0.csv\", path = \"D:/Datasets\")\n",
    "df = pd.read_csv(\"D:/Datasets/maestro-v1.0.0/maestro-v1.0.0.csv\")"
   ]
  },
  {
   "cell_type": "code",
   "execution_count": 19,
   "metadata": {},
   "outputs": [
    {
     "data": {
      "text/html": [
       "<div>\n",
       "<style scoped>\n",
       "    .dataframe tbody tr th:only-of-type {\n",
       "        vertical-align: middle;\n",
       "    }\n",
       "\n",
       "    .dataframe tbody tr th {\n",
       "        vertical-align: top;\n",
       "    }\n",
       "\n",
       "    .dataframe thead th {\n",
       "        text-align: right;\n",
       "    }\n",
       "</style>\n",
       "<table border=\"1\" class=\"dataframe\">\n",
       "  <thead>\n",
       "    <tr style=\"text-align: right;\">\n",
       "      <th></th>\n",
       "      <th>canonical_composer</th>\n",
       "      <th>canonical_title</th>\n",
       "      <th>split</th>\n",
       "      <th>year</th>\n",
       "      <th>midi_filename</th>\n",
       "      <th>audio_filename</th>\n",
       "      <th>duration</th>\n",
       "    </tr>\n",
       "  </thead>\n",
       "  <tbody>\n",
       "    <tr>\n",
       "      <th>0</th>\n",
       "      <td>Alban Berg</td>\n",
       "      <td>Sonata Op. 1</td>\n",
       "      <td>train</td>\n",
       "      <td>2017</td>\n",
       "      <td>2017/MIDI-Unprocessed_066_PIANO066_MID--AUDIO-...</td>\n",
       "      <td>2017/MIDI-Unprocessed_066_PIANO066_MID--AUDIO-...</td>\n",
       "      <td>464.649433</td>\n",
       "    </tr>\n",
       "    <tr>\n",
       "      <th>1</th>\n",
       "      <td>Alban Berg</td>\n",
       "      <td>Sonata Op. 1</td>\n",
       "      <td>train</td>\n",
       "      <td>2008</td>\n",
       "      <td>2008/MIDI-Unprocessed_03_R2_2008_01-03_ORIG_MI...</td>\n",
       "      <td>2008/MIDI-Unprocessed_03_R2_2008_01-03_ORIG_MI...</td>\n",
       "      <td>759.518471</td>\n",
       "    </tr>\n",
       "    <tr>\n",
       "      <th>2</th>\n",
       "      <td>Alexander Scriabin</td>\n",
       "      <td>24 Preludes Op. 11, No. 13-24</td>\n",
       "      <td>train</td>\n",
       "      <td>2004</td>\n",
       "      <td>2004/MIDI-Unprocessed_XP_21_R1_2004_01_ORIG_MI...</td>\n",
       "      <td>2004/MIDI-Unprocessed_XP_21_R1_2004_01_ORIG_MI...</td>\n",
       "      <td>872.640588</td>\n",
       "    </tr>\n",
       "    <tr>\n",
       "      <th>3</th>\n",
       "      <td>Alexander Scriabin</td>\n",
       "      <td>3 Etudes, Op. 65</td>\n",
       "      <td>test</td>\n",
       "      <td>2006</td>\n",
       "      <td>2006/MIDI-Unprocessed_17_R1_2006_01-06_ORIG_MI...</td>\n",
       "      <td>2006/MIDI-Unprocessed_17_R1_2006_01-06_ORIG_MI...</td>\n",
       "      <td>397.857508</td>\n",
       "    </tr>\n",
       "    <tr>\n",
       "      <th>4</th>\n",
       "      <td>Alexander Scriabin</td>\n",
       "      <td>5 Preludes, Op.15</td>\n",
       "      <td>train</td>\n",
       "      <td>2009</td>\n",
       "      <td>2009/MIDI-Unprocessed_07_R1_2009_04-05_ORIG_MI...</td>\n",
       "      <td>2009/MIDI-Unprocessed_07_R1_2009_04-05_ORIG_MI...</td>\n",
       "      <td>400.557826</td>\n",
       "    </tr>\n",
       "  </tbody>\n",
       "</table>\n",
       "</div>"
      ],
      "text/plain": [
       "   canonical_composer                canonical_title  split  year  \\\n",
       "0          Alban Berg                   Sonata Op. 1  train  2017   \n",
       "1          Alban Berg                   Sonata Op. 1  train  2008   \n",
       "2  Alexander Scriabin  24 Preludes Op. 11, No. 13-24  train  2004   \n",
       "3  Alexander Scriabin               3 Etudes, Op. 65   test  2006   \n",
       "4  Alexander Scriabin              5 Preludes, Op.15  train  2009   \n",
       "\n",
       "                                       midi_filename  \\\n",
       "0  2017/MIDI-Unprocessed_066_PIANO066_MID--AUDIO-...   \n",
       "1  2008/MIDI-Unprocessed_03_R2_2008_01-03_ORIG_MI...   \n",
       "2  2004/MIDI-Unprocessed_XP_21_R1_2004_01_ORIG_MI...   \n",
       "3  2006/MIDI-Unprocessed_17_R1_2006_01-06_ORIG_MI...   \n",
       "4  2009/MIDI-Unprocessed_07_R1_2009_04-05_ORIG_MI...   \n",
       "\n",
       "                                      audio_filename    duration  \n",
       "0  2017/MIDI-Unprocessed_066_PIANO066_MID--AUDIO-...  464.649433  \n",
       "1  2008/MIDI-Unprocessed_03_R2_2008_01-03_ORIG_MI...  759.518471  \n",
       "2  2004/MIDI-Unprocessed_XP_21_R1_2004_01_ORIG_MI...  872.640588  \n",
       "3  2006/MIDI-Unprocessed_17_R1_2006_01-06_ORIG_MI...  397.857508  \n",
       "4  2009/MIDI-Unprocessed_07_R1_2009_04-05_ORIG_MI...  400.557826  "
      ]
     },
     "execution_count": 19,
     "metadata": {},
     "output_type": "execute_result"
    }
   ],
   "source": [
    "df.head()"
   ]
  },
  {
   "cell_type": "markdown",
   "metadata": {},
   "source": [
    "# Licensing"
   ]
  },
  {
   "cell_type": "markdown",
   "metadata": {},
   "source": [
    "The MAESTRO dataset (v1.0.0) is made available by Google LLC under a [Creative Commons Attribution Non-Commercial Share-Alike 4.0 (CC BY-NC-SA 4.0) license](https://creativecommons.org/licenses/by-nc-sa/4.0/), and all nanalysis of that unaltered data done in this notebook uses the same license. "
   ]
  },
  {
   "cell_type": "markdown",
   "metadata": {},
   "source": [
    "# Data Sources"
   ]
  },
  {
   "cell_type": "markdown",
   "metadata": {},
   "source": [
    "The [MAESTRO v1.0.0 dataset](https://magenta.tensorflow.org/datasets/maestro#v100) used here was introduced in the following work:"
   ]
  },
  {
   "cell_type": "markdown",
   "metadata": {},
   "source": [
    "Curtis Hawthorne, Andriy Stasyuk, Adam Roberts, Ian Simon, Cheng-Zhi Anna Huang,\n",
    "  Sander Dieleman, Erich Elsen, Jesse Engel, and Douglas Eck. \"Enabling\n",
    "  Factorized Piano Music Modeling and Generation with the MAESTRO Dataset.\"\n",
    "  In International Conference on Learning Representations, 2019."
   ]
  },
  {
   "cell_type": "code",
   "execution_count": null,
   "metadata": {},
   "outputs": [],
   "source": []
  }
 ],
 "metadata": {
  "kernelspec": {
   "display_name": "Python 3",
   "language": "python",
   "name": "python3"
  },
  "language_info": {
   "codemirror_mode": {
    "name": "ipython",
    "version": 3
   },
   "file_extension": ".py",
   "mimetype": "text/x-python",
   "name": "python",
   "nbconvert_exporter": "python",
   "pygments_lexer": "ipython3",
   "version": "3.7.4"
  }
 },
 "nbformat": 4,
 "nbformat_minor": 4
}
